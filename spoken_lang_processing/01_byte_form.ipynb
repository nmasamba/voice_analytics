{
 "cells": [
  {
   "cell_type": "code",
   "execution_count": 1,
   "metadata": {},
   "outputs": [],
   "source": [
    "\n",
    "import aifc"
   ]
  },
  {
   "cell_type": "code",
   "execution_count": 2,
   "metadata": {},
   "outputs": [],
   "source": [
    "sound_file = aifc.open('data/sample_recordingwav.aif', 'rb')"
   ]
  },
  {
   "cell_type": "code",
   "execution_count": 3,
   "metadata": {},
   "outputs": [
    {
     "name": "stdout",
     "output_type": "stream",
     "text": [
      "b'\\xff\\xd3\\xff\\xd3\\xff\\xd8\\xff\\xd8\\x00\\x08\\x00\\x08\\xff\\xf7\\xff\\xf7\\xff\\xf3\\xff\\xf3\\xff\\xee\\xff\\xee\\xff\\xe6\\xff\\xe6\\xff\\xed\\xff\\xed\\x00\\x11\\x00\\x11\\xff\\xf0\\xff\\xf0\\xff\\xe0\\xff\\xe0\\x00\\x0b\\x00\\x0b\\x00\\x19\\x00\\x19\\x00\\x18\\x00\\x18\\x00\"\\x00\"\\x00)\\x00)\\x00\\x03\\x00\\x03\\xff\\xf8\\xff\\xf8\\xff\\xe9\\xff\\xe9\\xff\\xd2\\xff\\xd2\\xff\\xd6\\xff\\xd6\\xff\\xfd\\xff\\xfd\\x00\\x07\\x00\\x07\\xff\\xd7\\xff\\xd7\\xff\\xf4\\xff\\xf4'\n"
     ]
    }
   ],
   "source": [
    "# View the AIFF file in byte form\n",
    "sound_wave =  sound_file.readframes(-1)\n",
    "print(sound_wave[:100])"
   ]
  },
  {
   "cell_type": "code",
   "execution_count": 4,
   "metadata": {},
   "outputs": [
    {
     "name": "stdout",
     "output_type": "stream",
     "text": [
      "44100\n"
     ]
    }
   ],
   "source": [
    "\n",
    "# View number of frames (pieces of information) per second\n",
    "# Gives us an idea of how large the soundwave is\n",
    "# This file's frame rate (frequency) is 44kHz and it is approx. 17 seconds long = 749,700 pieces of information! \n",
    "# We only printed out the first 100 pieces of information above\n",
    "frame_rate = sound_file.getframerate()\n",
    "print(frame_rate)"
   ]
  },
  {
   "cell_type": "code",
   "execution_count": null,
   "metadata": {},
   "outputs": [],
   "source": []
  },
  {
   "cell_type": "code",
   "execution_count": null,
   "metadata": {},
   "outputs": [],
   "source": []
  },
  {
   "cell_type": "code",
   "execution_count": null,
   "metadata": {},
   "outputs": [],
   "source": []
  },
  {
   "cell_type": "code",
   "execution_count": null,
   "metadata": {},
   "outputs": [],
   "source": []
  },
  {
   "cell_type": "code",
   "execution_count": null,
   "metadata": {},
   "outputs": [],
   "source": []
  }
 ],
 "metadata": {
  "kernelspec": {
   "display_name": "Python [conda env:spark]",
   "language": "python",
   "name": "conda-env-spark-py"
  },
  "language_info": {
   "codemirror_mode": {
    "name": "ipython",
    "version": 3
   },
   "file_extension": ".py",
   "mimetype": "text/x-python",
   "name": "python",
   "nbconvert_exporter": "python",
   "pygments_lexer": "ipython3",
   "version": "3.7.13"
  }
 },
 "nbformat": 4,
 "nbformat_minor": 2
}
