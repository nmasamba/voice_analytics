{
 "cells": [
  {
   "cell_type": "code",
   "execution_count": 1,
   "metadata": {},
   "outputs": [],
   "source": [
    "\n",
    "import aifc\n",
    "import speech_recognition as sr"
   ]
  },
  {
   "cell_type": "code",
   "execution_count": 2,
   "metadata": {},
   "outputs": [],
   "source": [
    "\n",
    "# In this file, I say \"Recording a sample WAV file, over! Recording a sample WAV file, over!\"\n",
    "path_to_audio = 'data/sample_recordingwav.aif'"
   ]
  },
  {
   "cell_type": "code",
   "execution_count": 3,
   "metadata": {},
   "outputs": [],
   "source": [
    "\n",
    "# create an instance of the Recognizer class\n",
    "recognizer = sr.Recognizer()"
   ]
  },
  {
   "cell_type": "code",
   "execution_count": 4,
   "metadata": {},
   "outputs": [],
   "source": [
    "# Convert to audio_data format required by API\n",
    "with sr.AudioFile(path_to_audio) as source:\n",
    "    audio = recognizer.record(source)"
   ]
  },
  {
   "cell_type": "code",
   "execution_count": 5,
   "metadata": {},
   "outputs": [],
   "source": [
    "\n",
    "# set energy threshold, 300 is recommended in the docs\n",
    "# this can be thought of as the 'loudness' at which the speech recognition engine considers input as speech\n",
    "thresh = 300"
   ]
  },
  {
   "cell_type": "code",
   "execution_count": 6,
   "metadata": {},
   "outputs": [
    {
     "name": "stdout",
     "output_type": "stream",
     "text": [
      "Google Speech Recognition thinks you said: recording a sample file over recording a sample while file over\n"
     ]
    }
   ],
   "source": [
    "\n",
    "# transcribe speech using the Google Cloud Speech API\n",
    "try:\n",
    "    # using the default API key\n",
    "    # to use another API key, use `r.recognize_google(audio, key=\"GOOGLE_SPEECH_RECOGNITION_API_KEY\")`\n",
    "    print(\"Google Speech Recognition thinks you said: \" + recognizer.recognize_google(audio, language='en-GB'))\n",
    "except sr.UnknownValueError:\n",
    "    print(\"Google Speech Recognition could not understand audio\")\n",
    "except sr.RequestError as e:\n",
    "    print(\"Could not request results from Google Speech Recognition service; {0}\".format(e))\n"
   ]
  },
  {
   "cell_type": "code",
   "execution_count": null,
   "metadata": {},
   "outputs": [],
   "source": []
  },
  {
   "cell_type": "code",
   "execution_count": 7,
   "metadata": {},
   "outputs": [
    {
     "name": "stdout",
     "output_type": "stream",
     "text": [
      "Google Speech Recognition thinks you said: recording a sample work file over\n"
     ]
    }
   ],
   "source": [
    "\n",
    "# To offset the first 3 seconds and to only transcribe 10 seconds of the data after that\n",
    "with sr.AudioFile(path_to_audio) as source:\n",
    "    audio = recognizer.record(source, duration=10, offset=3)\n",
    "    \n",
    "try:\n",
    "    # using the default API key\n",
    "    # to use another API key, use `r.recognize_google(audio, key=\"GOOGLE_SPEECH_RECOGNITION_API_KEY\")`\n",
    "    print(\"Google Speech Recognition thinks you said: \" + recognizer.recognize_google(audio, language='en-GB'))\n",
    "except sr.UnknownValueError:\n",
    "    print(\"Google Speech Recognition could not understand audio\")\n",
    "except sr.RequestError as e:\n",
    "    print(\"Could not request results from Google Speech Recognition service; {0}\".format(e))\n",
    "\n"
   ]
  },
  {
   "cell_type": "code",
   "execution_count": null,
   "metadata": {},
   "outputs": [],
   "source": []
  },
  {
   "cell_type": "code",
   "execution_count": 8,
   "metadata": {},
   "outputs": [
    {
     "name": "stdout",
     "output_type": "stream",
     "text": [
      "{'alternative': [{'transcript': 'recording a sample file over recording a sample while file over', 'confidence': 0.9510712}, {'transcript': 'recording a sample but file over recording a sample while file over'}, {'transcript': 'recording a sample while file over recording a sample while file over'}, {'transcript': 'coding a sample while file over recording a sample while file over'}, {'transcript': 'recording a sample file over recording a sample web file over'}], 'final': True}\n"
     ]
    }
   ],
   "source": [
    "\n",
    "# to transcribe without knowing the input language, you could choose to view all the transcriptions\n",
    "with sr.AudioFile(path_to_audio) as source:\n",
    "    audio = recognizer.record(source)\n",
    "    \n",
    "print(recognizer.recognize_google(audio, show_all=True))"
   ]
  },
  {
   "cell_type": "code",
   "execution_count": null,
   "metadata": {},
   "outputs": [],
   "source": []
  }
 ],
 "metadata": {
  "kernelspec": {
   "display_name": "Python [conda env:spark]",
   "language": "python",
   "name": "conda-env-spark-py"
  },
  "language_info": {
   "codemirror_mode": {
    "name": "ipython",
    "version": 3
   },
   "file_extension": ".py",
   "mimetype": "text/x-python",
   "name": "python",
   "nbconvert_exporter": "python",
   "pygments_lexer": "ipython3",
   "version": "3.7.13"
  }
 },
 "nbformat": 4,
 "nbformat_minor": 2
}
