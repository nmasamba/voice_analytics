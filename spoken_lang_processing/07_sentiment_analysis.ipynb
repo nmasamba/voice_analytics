{
 "cells": [
  {
   "cell_type": "code",
   "execution_count": 1,
   "metadata": {},
   "outputs": [],
   "source": [
    "\n",
    "import speech_recognition as sr\n",
    "from nltk.sentiment.vader import SentimentIntensityAnalyzer"
   ]
  },
  {
   "cell_type": "code",
   "execution_count": 2,
   "metadata": {},
   "outputs": [],
   "source": [
    "\n",
    "# use NLTK's pre-trained VADER model to perform sentiment analysis on audio clip\n",
    "# VADER (Valence Aware Dictionary and sEntiment Reasoner) was trained on social media data\n",
    "# create an instance of the VADER sentiment analyzer\n",
    "sid = SentimentIntensityAnalyzer()"
   ]
  },
  {
   "cell_type": "code",
   "execution_count": 3,
   "metadata": {},
   "outputs": [],
   "source": [
    "\n",
    "# In this file, I say \"Recording a sample WAV file, over! Recording a sample WAV file, over!\"\n",
    "path_to_audio = 'data/sample_recordingwav.aif'\n",
    "\n",
    "recognizer = sr.Recognizer()\n",
    "with sr.AudioFile(path_to_audio) as source:\n",
    "    audio = recognizer.record(source)\n",
    "    \n",
    "transcription_text = recognizer.recognize_google(audio, language='en-GB')"
   ]
  },
  {
   "cell_type": "code",
   "execution_count": 4,
   "metadata": {},
   "outputs": [
    {
     "name": "stdout",
     "output_type": "stream",
     "text": [
      "recording a sample file over recording a sample while file over\n"
     ]
    }
   ],
   "source": [
    "print(transcription_text)"
   ]
  },
  {
   "cell_type": "code",
   "execution_count": 5,
   "metadata": {},
   "outputs": [
    {
     "name": "stdout",
     "output_type": "stream",
     "text": [
      "{'neg': 0.0, 'neu': 1.0, 'pos': 0.0, 'compound': 0.0}\n"
     ]
    }
   ],
   "source": [
    "\n",
    "# Perform sentiment analysis on audio clip\n",
    "# Correctly scored as 100% neu (neutral)\n",
    "print(sid.polarity_scores(transcription_text))"
   ]
  }
 ],
 "metadata": {
  "kernelspec": {
   "display_name": "Python [conda env:spark]",
   "language": "python",
   "name": "conda-env-spark-py"
  },
  "language_info": {
   "codemirror_mode": {
    "name": "ipython",
    "version": 3
   },
   "file_extension": ".py",
   "mimetype": "text/x-python",
   "name": "python",
   "nbconvert_exporter": "python",
   "pygments_lexer": "ipython3",
   "version": "3.7.13"
  }
 },
 "nbformat": 4,
 "nbformat_minor": 2
}
