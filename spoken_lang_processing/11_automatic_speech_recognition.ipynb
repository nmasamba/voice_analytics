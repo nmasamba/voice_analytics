{
 "cells": [
  {
   "cell_type": "markdown",
   "id": "761b111f",
   "metadata": {},
   "source": [
    "Automatic speech recognition (ASR) converts a speech signal to text, mapping a sequence of audio inputs to text outputs. Virtual assistants like Siri and Alexa use ASR models to help users everyday, and there are many other useful user-facing applications like live captioning and note-taking during meetings.\n",
    "\n",
    "This guide shows how to:\n",
    "1. Finetune Wav2Vec2 on the MInDS-14 dataset to transcribe audio to text.\n",
    "2. Use your finetuned model for inference."
   ]
  },
  {
   "cell_type": "markdown",
   "id": "0fbe65e9",
   "metadata": {},
   "source": [
    "# Libraries"
   ]
  },
  {
   "cell_type": "code",
   "execution_count": null,
   "id": "d9ead82e",
   "metadata": {},
   "outputs": [],
   "source": [
    "pip install transformers datasets evaluate jiwer"
   ]
  },
  {
   "cell_type": "code",
   "execution_count": null,
   "id": "1f8378b2",
   "metadata": {},
   "outputs": [],
   "source": [
    "import torch\n",
    "import evaluate\n",
    "import numpy as np\n",
    "from dataclasses import dataclass, field\n",
    "from typing import Any, Dict, List, Optional, Union\n",
    "from datasets import load_dataset, Audio\n",
    "from transformers import AutoProcessor"
   ]
  },
  {
   "cell_type": "markdown",
   "id": "255db413",
   "metadata": {},
   "source": [
    "# Load Data"
   ]
  },
  {
   "cell_type": "code",
   "execution_count": null,
   "id": "3920ba70",
   "metadata": {},
   "outputs": [],
   "source": [
    "# Load a smaller subset of the MInDS-14 (to experiment on a small dataset first)\n",
    "minds = load_dataset(\"PolyAI/minds14\", name=\"en-US\", split=\"train[:100]\")\n",
    "\n",
    "# train-test split \n",
    "minds = minds.train_test_split(test_size=0.2)"
   ]
  },
  {
   "cell_type": "code",
   "execution_count": null,
   "id": "cd9651af",
   "metadata": {},
   "outputs": [],
   "source": [
    "# Inspect dataset detail\n",
    "# NB: focusing on the audio and transcription\n",
    "# audio: a 1-dimensional array of the speech signal that must be called to load and resample the audio file.\n",
    "# transcription: the target text.\n",
    "minds"
   ]
  },
  {
   "cell_type": "code",
   "execution_count": null,
   "id": "a0e9fde5",
   "metadata": {},
   "outputs": [],
   "source": [
    "# Inspect an example\n",
    "minds[\"train\"][0]"
   ]
  },
  {
   "cell_type": "markdown",
   "id": "c60ae2d5",
   "metadata": {},
   "source": [
    "# Preprocessing"
   ]
  },
  {
   "cell_type": "code",
   "execution_count": null,
   "id": "d66336ac",
   "metadata": {},
   "outputs": [],
   "source": [
    "# Load a Wav2Vec2 processor to process the audio signal\n",
    "processor = AutoProcessor.from_pretrained(\"facebook/wav2vec2-base\")"
   ]
  },
  {
   "cell_type": "code",
   "execution_count": null,
   "id": "31c3758d",
   "metadata": {},
   "outputs": [],
   "source": [
    "# MInDS-14 dataset has a sampling rate of 8000kHz (you can find this information in its dataset card)\n",
    "# You’ll need to resample the dataset to 16000kHz to use the pretrained Wav2Vec2 model\n",
    "minds = minds.cast_column(\"audio\", Audio(sampling_rate=16_000))\n",
    "minds[\"train\"][0]"
   ]
  },
  {
   "cell_type": "code",
   "execution_count": null,
   "id": "db940748",
   "metadata": {},
   "outputs": [],
   "source": [
    "# The transcription text contains a mix of upper and lowercase characters\n",
    "# The Wav2Vec2 tokenizer is only trained on uppercase characters\n",
    "# ...make sure the text matches the tokenizer’s vocabulary\n",
    "def uppercase(example):\n",
    "    return {\"transcription\": example[\"transcription\"].upper()}\n",
    "\n",
    "minds = minds.map(uppercase)"
   ]
  },
  {
   "cell_type": "code",
   "execution_count": null,
   "id": "77692ebd",
   "metadata": {},
   "outputs": [],
   "source": [
    "def prepare_dataset(batch):\n",
    "    # Call the audio column to load and resample the audio file\n",
    "    audio = batch[\"audio\"]\n",
    "    batch = processor(audio[\"array\"], sampling_rate=audio[\"sampling_rate\"], text=batch[\"transcription\"])\n",
    "    \n",
    "    # Extracts the input_values from the audio file and tokenize the transcription column with the processor\n",
    "    batch[\"input_length\"] = len(batch[\"input_values\"][0])\n",
    "    return batch\n",
    "\n",
    "encoded_minds = minds.map(prepare_dataset, remove_columns=minds.column_names[\"train\"], num_proc=4)"
   ]
  },
  {
   "cell_type": "code",
   "execution_count": null,
   "id": "f8b5b7e4",
   "metadata": {},
   "outputs": [],
   "source": [
    "# Transformers doesn’t have a data collator for speech recognition\n",
    "# Adapt the DataCollatorWithPadding to create a batch of examples\n",
    "# Also perform dynamic padding which is more efficient than setting padding=True\n",
    "@dataclass\n",
    "class DataCollatorCTCWithPadding:\n",
    "    processor: AutoProcessor\n",
    "    padding: Union[bool, str] = \"longest\"\n",
    "\n",
    "    def __call__(self, features: List[Dict[str, Union[List[int], torch.Tensor]]]) -> Dict[str, torch.Tensor]:\n",
    "        # split inputs and labels since they have to be of different lengths and need\n",
    "        # different padding methods\n",
    "        input_features = [{\"input_values\": feature[\"input_values\"][0]} for feature in features]\n",
    "        label_features = [{\"input_ids\": feature[\"labels\"]} for feature in features]\n",
    "\n",
    "        batch = self.processor.pad(input_features, padding=self.padding, return_tensors=\"pt\")\n",
    "\n",
    "        labels_batch = self.processor.pad(labels=label_features, padding=self.padding, return_tensors=\"pt\")\n",
    "\n",
    "        # replace padding with -100 to ignore loss correctly\n",
    "        labels = labels_batch[\"input_ids\"].masked_fill(labels_batch.attention_mask.ne(1), -100)\n",
    "\n",
    "        batch[\"labels\"] = labels\n",
    "\n",
    "        return batch"
   ]
  },
  {
   "cell_type": "code",
   "execution_count": null,
   "id": "cb527c83",
   "metadata": {},
   "outputs": [],
   "source": [
    "data_collator = DataCollatorCTCWithPadding(processor=processor, padding=\"longest\")"
   ]
  },
  {
   "cell_type": "markdown",
   "id": "b75f25a7",
   "metadata": {},
   "source": [
    "# Evaluation"
   ]
  },
  {
   "cell_type": "code",
   "execution_count": null,
   "id": "08f6441c",
   "metadata": {},
   "outputs": [],
   "source": [
    "# For speech recognition, load the word error rate (WER) metric\n",
    "wer = evaluate.load(\"wer\")"
   ]
  },
  {
   "cell_type": "code",
   "execution_count": null,
   "id": "9b2afc27",
   "metadata": {},
   "outputs": [],
   "source": [
    "# Function that passes predictions + labels to compute to calculate the WER\n",
    "# Called during training\n",
    "def compute_metrics(pred):\n",
    "    pred_logits = pred.predictions\n",
    "    pred_ids = np.argmax(pred_logits, axis=-1)\n",
    "\n",
    "    pred.label_ids[pred.label_ids == -100] = processor.tokenizer.pad_token_id\n",
    "\n",
    "    pred_str = processor.batch_decode(pred_ids)\n",
    "    label_str = processor.batch_decode(pred.label_ids, group_tokens=False)\n",
    "\n",
    "    wer = wer.compute(predictions=pred_str, references=label_str)\n",
    "\n",
    "    return {\"wer\": wer}"
   ]
  },
  {
   "cell_type": "code",
   "execution_count": null,
   "id": "d3b6ed6a",
   "metadata": {},
   "outputs": [],
   "source": []
  }
 ],
 "metadata": {
  "kernelspec": {
   "display_name": "Python [conda env:nlp]",
   "language": "python",
   "name": "conda-env-nlp-py"
  },
  "language_info": {
   "codemirror_mode": {
    "name": "ipython",
    "version": 3
   },
   "file_extension": ".py",
   "mimetype": "text/x-python",
   "name": "python",
   "nbconvert_exporter": "python",
   "pygments_lexer": "ipython3",
   "version": "3.10.13"
  }
 },
 "nbformat": 4,
 "nbformat_minor": 5
}
