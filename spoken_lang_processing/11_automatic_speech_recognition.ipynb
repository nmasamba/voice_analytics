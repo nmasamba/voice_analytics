{
 "cells": [
  {
   "cell_type": "markdown",
   "id": "317fc05e",
   "metadata": {},
   "source": [
    "Automatic speech recognition (ASR) converts a speech signal to text, mapping a sequence of audio inputs to text outputs. Virtual assistants like Siri and Alexa use ASR models to help users everyday, and there are many other useful user-facing applications like live captioning and note-taking during meetings.\n",
    "\n",
    "This guide shows how to:\n",
    "1. Finetune Wav2Vec2 on the MInDS-14 dataset to transcribe audio to text.\n",
    "2. Use your finetuned model for inference."
   ]
  },
  {
   "cell_type": "markdown",
   "id": "1aa56de4",
   "metadata": {},
   "source": [
    "# Libraries"
   ]
  },
  {
   "cell_type": "code",
   "execution_count": null,
   "id": "37bc6eb7",
   "metadata": {},
   "outputs": [],
   "source": [
    "pip install transformers datasets evaluate jiwer"
   ]
  },
  {
   "cell_type": "code",
   "execution_count": null,
   "id": "b7579775",
   "metadata": {},
   "outputs": [],
   "source": [
    "from datasets import load_dataset, Audio\n",
    "from transformers import AutoProcessor"
   ]
  },
  {
   "cell_type": "markdown",
   "id": "1272fa9e",
   "metadata": {},
   "source": [
    "# Load Data"
   ]
  },
  {
   "cell_type": "code",
   "execution_count": null,
   "id": "e43e0954",
   "metadata": {},
   "outputs": [],
   "source": [
    "# Load a smaller subset of the MInDS-14 (to experiment on a small dataset first)\n",
    "minds = load_dataset(\"PolyAI/minds14\", name=\"en-US\", split=\"train[:100]\")\n",
    "\n",
    "# train-test split \n",
    "minds = minds.train_test_split(test_size=0.2)"
   ]
  },
  {
   "cell_type": "code",
   "execution_count": null,
   "id": "9d7b8746",
   "metadata": {},
   "outputs": [],
   "source": [
    "# Inspect dataset detail\n",
    "# NB: focusing on the audio and transcription\n",
    "# audio: a 1-dimensional array of the speech signal that must be called to load and resample the audio file.\n",
    "# transcription: the target text.\n",
    "minds"
   ]
  },
  {
   "cell_type": "code",
   "execution_count": null,
   "id": "03724e6d",
   "metadata": {},
   "outputs": [],
   "source": [
    "# Inspect an example\n",
    "minds[\"train\"][0]"
   ]
  },
  {
   "cell_type": "markdown",
   "id": "0079390b",
   "metadata": {},
   "source": [
    "# Preprocessing"
   ]
  },
  {
   "cell_type": "code",
   "execution_count": null,
   "id": "5605f43c",
   "metadata": {},
   "outputs": [],
   "source": [
    "# Load a Wav2Vec2 processor to process the audio signal\n",
    "processor = AutoProcessor.from_pretrained(\"facebook/wav2vec2-base\")"
   ]
  },
  {
   "cell_type": "code",
   "execution_count": null,
   "id": "40bb8d1c",
   "metadata": {},
   "outputs": [],
   "source": [
    "# MInDS-14 dataset has a sampling rate of 8000kHz (you can find this information in its dataset card)\n",
    "# You’ll need to resample the dataset to 16000kHz to use the pretrained Wav2Vec2 model\n",
    "minds = minds.cast_column(\"audio\", Audio(sampling_rate=16_000))\n",
    "minds[\"train\"][0]"
   ]
  },
  {
   "cell_type": "code",
   "execution_count": null,
   "id": "fb30a81a",
   "metadata": {},
   "outputs": [],
   "source": [
    "# The transcription text contains a mix of upper and lowercase characters\n",
    "# The Wav2Vec2 tokenizer is only trained on uppercase characters\n",
    "# ...make sure the text matches the tokenizer’s vocabulary\n",
    "def uppercase(example):\n",
    "    return {\"transcription\": example[\"transcription\"].upper()}\n",
    "\n",
    "minds = minds.map(uppercase)"
   ]
  },
  {
   "cell_type": "code",
   "execution_count": null,
   "id": "1bda85b5",
   "metadata": {},
   "outputs": [],
   "source": [
    "def prepare_dataset(batch):\n",
    "    # Call the audio column to load and resample the audio file\n",
    "    audio = batch[\"audio\"]\n",
    "    batch = processor(audio[\"array\"], sampling_rate=audio[\"sampling_rate\"], text=batch[\"transcription\"])\n",
    "    \n",
    "    # Extracts the input_values from the audio file and tokenize the transcription column with the processor\n",
    "    batch[\"input_length\"] = len(batch[\"input_values\"][0])\n",
    "    return batch\n",
    "\n",
    "encoded_minds = minds.map(prepare_dataset, remove_columns=minds.column_names[\"train\"], num_proc=4)"
   ]
  },
  {
   "cell_type": "code",
   "execution_count": null,
   "id": "d17d861c",
   "metadata": {},
   "outputs": [],
   "source": []
  }
 ],
 "metadata": {
  "kernelspec": {
   "display_name": "Python [conda env:nlp]",
   "language": "python",
   "name": "conda-env-nlp-py"
  },
  "language_info": {
   "codemirror_mode": {
    "name": "ipython",
    "version": 3
   },
   "file_extension": ".py",
   "mimetype": "text/x-python",
   "name": "python",
   "nbconvert_exporter": "python",
   "pygments_lexer": "ipython3",
   "version": "3.10.13"
  }
 },
 "nbformat": 4,
 "nbformat_minor": 5
}
