{
 "cells": [
  {
   "cell_type": "markdown",
   "id": "f6eae99e",
   "metadata": {},
   "source": [
    "Automatic speech recognition (ASR) converts a speech signal to text, mapping a sequence of audio inputs to text outputs. Virtual assistants like Siri and Alexa use ASR models to help users everyday, and there are many other useful user-facing applications like live captioning and note-taking during meetings.\n",
    "\n",
    "This guide shows how to:\n",
    "1. Finetune Wav2Vec2 on the MInDS-14 dataset to transcribe audio to text.\n",
    "2. Use your finetuned model for inference."
   ]
  },
  {
   "cell_type": "markdown",
   "id": "dc16dfa8",
   "metadata": {},
   "source": [
    "# Libraries"
   ]
  },
  {
   "cell_type": "code",
   "execution_count": null,
   "id": "10060465",
   "metadata": {},
   "outputs": [],
   "source": [
    "pip install transformers datasets evaluate jiwer"
   ]
  }
 ],
 "metadata": {
  "kernelspec": {
   "display_name": "Python [conda env:nlp]",
   "language": "python",
   "name": "conda-env-nlp-py"
  },
  "language_info": {
   "codemirror_mode": {
    "name": "ipython",
    "version": 3
   },
   "file_extension": ".py",
   "mimetype": "text/x-python",
   "name": "python",
   "nbconvert_exporter": "python",
   "pygments_lexer": "ipython3",
   "version": "3.10.13"
  }
 },
 "nbformat": 4,
 "nbformat_minor": 5
}
